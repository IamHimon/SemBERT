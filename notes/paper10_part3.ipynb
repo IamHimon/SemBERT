{
 "cells": [
  {
   "cell_type": "markdown",
   "metadata": {},
   "source": [
    "<br>\n",
    "<br>\n",
    "<br>\n",
    "<br>\n",
    "<br>\n",
    "<br>\n",
    "<br>\n",
    "\n",
    "## 《Semantics-aware BERT for Language Understanding》\n",
    "### 考虑语义的BERT模型\n",
    "#### 作者：Zhuosheng Zhang, Yuwei Wu,Hai Zhao  et al\n",
    "#### 单位：上海交通大学 & 云从科技\n",
    "#### 发表会议及时间：AAAI 2020\n",
    "\n",
    "---\n",
    "\n",
    "### 论文主题：文本匹配\n",
    "### 授课老师：himon\n",
    "\n",
    "\n",
    "<br>\n",
    "<br>\n",
    "<br>\n",
    "<br>\n",
    "<br>\n",
    "<br>\n",
    "<br>\n",
    "<br>\n",
    "<br>\n",
    "<br>\n"
   ]
  },
  {
   "cell_type": "markdown",
   "metadata": {},
   "source": [
    "## 1. 前言\n",
    "### 1.1 上节课内容回顾\n",
    "\n",
    "\n",
    "\n",
    "### <font color='orange'>主要内容：</font>\n",
    "\n",
    "---\n",
    "\n",
    "<div>\n",
    "<img src='imgs/review.png' width='700' height='700'/>\n",
    "</div>\n",
    "\n",
    "---\n",
    "\n",
    "### <font color='orange'>主要知识点： </font>\n",
    "\n",
    "\n",
    "<div>\n",
    "<img src='imgs/knowledge1.png' width='800' height='800'/>\n",
    "</div>"
   ]
  },
  {
   "cell_type": "markdown",
   "metadata": {},
   "source": [
    "### 1.2 模型回顾\n",
    "\n",
    "\n",
    "### <font color='orange'>SemBERT： </font>\n",
    "\n",
    "---\n",
    "\n",
    "<div>\n",
    "<img src='imgs/model.png' width='800' height='800'/>\n",
    "</div>\n",
    "\n",
    "---\n",
    "\n",
    "\n"
   ]
  },
  {
   "cell_type": "markdown",
   "metadata": {},
   "source": [
    "### 2 本课知识树\n",
    "\n",
    "\n",
    "### <font color='orange'>本课主要知识点 </font>：\n",
    "\n",
    "\n",
    "\n",
    "<div>\n",
    "<img src='imgs/known.png' width='700' height='700'/>\n",
    "</div>\n",
    "\n",
    "\n",
    "---"
   ]
  },
  {
   "cell_type": "markdown",
   "metadata": {},
   "source": [
    "## 3. 准备工作\n",
    "### 3.1 项目环境配置\n",
    "\n",
    "\n",
    "\n",
    "```\n",
    "# install allennlp\n",
    "pip install allennlp==2.1.0 allennlp-models==2.1.0\n",
    "\n",
    "# install notebook\n",
    "conda install -n gt -c conda-forge ipython jupyter\n",
    "\n",
    "# install requriments\n",
    "tqdm\n",
    "scipy\n",
    "sklearn\n",
    "boto3\n",
    "tqdm\n",
    "\n",
    "```\n",
    "\n",
    "\n"
   ]
  },
  {
   "cell_type": "markdown",
   "metadata": {},
   "source": [
    "## 4.  Allennlp.SRL使用讲解\n",
    "\n",
    "见  \"srl.ipynb\"\n",
    "\n",
    " <br>\n",
    " <br>\n",
    " <br>\n",
    " \n",
    "---"
   ]
  },
  {
   "cell_type": "markdown",
   "metadata": {},
   "source": [
    "## 5.  TagEmbeddings，CNN_conv1d，BiGRU，SemBERT讲解\n",
    "\n",
    "见  \"SemBERT.ipynb\"\n",
    "\n",
    " <br>\n",
    " <br>\n",
    " <br>\n",
    " \n",
    "---"
   ]
  },
  {
   "cell_type": "markdown",
   "metadata": {},
   "source": [
    "## 6.   BERT模型讲解 和 训练SemBERT\n",
    "\n",
    "见  Pycharm\n",
    "\n",
    " <br>\n",
    " <br>\n",
    " <br>\n",
    " \n",
    "---"
   ]
  },
  {
   "cell_type": "markdown",
   "metadata": {},
   "source": [
    "## 7.课后做业\n",
    "\n",
    "- 【代码实践】1.更详细的学习SemBERT的代码，训练模型，尝试复现论文结果。 2.手动复现BERT代码。\n",
    "- 【思考题】 根据“启发点”，尝试改进模型。试验，比较结果。\n",
    "- 【总结】 完成一篇博客，记下完整的学习过程、知识点以及自己的思考。"
   ]
  },
  {
   "cell_type": "code",
   "execution_count": null,
   "metadata": {},
   "outputs": [],
   "source": []
  }
 ],
 "metadata": {
  "kernelspec": {
   "display_name": "Python 3",
   "language": "python",
   "name": "python3"
  },
  "language_info": {
   "codemirror_mode": {
    "name": "ipython",
    "version": 3
   },
   "file_extension": ".py",
   "mimetype": "text/x-python",
   "name": "python",
   "nbconvert_exporter": "python",
   "pygments_lexer": "ipython3",
   "version": "3.6.2"
  }
 },
 "nbformat": 4,
 "nbformat_minor": 5
}
