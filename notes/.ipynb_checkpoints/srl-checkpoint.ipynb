{
 "cells": [
  {
   "cell_type": "markdown",
   "metadata": {},
   "source": [
    "# srl"
   ]
  },
  {
   "cell_type": "code",
   "execution_count": 16,
   "metadata": {},
   "outputs": [],
   "source": [
    "# 加载模型\n",
    "from allennlp.predictors.predictor import Predictor\n",
    "predictor = Predictor.from_path(\"https://storage.googleapis.com/allennlp-public-models/structured-prediction-srl-bert.2020.12.15.tar.gz\")\n",
    "\n"
   ]
  },
  {
   "cell_type": "code",
   "execution_count": 10,
   "metadata": {},
   "outputs": [],
   "source": [
    "sentence = \"John broke the window with a rock.\"\n",
    "preds = predictor.predict(sentence)"
   ]
  },
  {
   "cell_type": "markdown",
   "metadata": {},
   "source": [
    "### <font color='orange'>单条输出格式： </font>：\n",
    "\n",
    "<div>\n",
    "<img src='imgs/srl-res.png' width='600' height='600'/>\n",
    "</div>"
   ]
  },
  {
   "cell_type": "code",
   "execution_count": 11,
   "metadata": {},
   "outputs": [
    {
     "data": {
      "text/plain": [
       "{'verbs': [{'verb': 'broke',\n",
       "   'description': '[ARG0: John] [V: broke] [ARG1: the window] [ARG2: with a rock] .',\n",
       "   'tags': ['B-ARG0',\n",
       "    'B-V',\n",
       "    'B-ARG1',\n",
       "    'I-ARG1',\n",
       "    'B-ARG2',\n",
       "    'I-ARG2',\n",
       "    'I-ARG2',\n",
       "    'O']}],\n",
       " 'words': ['John', 'broke', 'the', 'window', 'with', 'a', 'rock', '.']}"
      ]
     },
     "execution_count": 11,
     "metadata": {},
     "output_type": "execute_result"
    }
   ],
   "source": [
    "preds"
   ]
  },
  {
   "cell_type": "code",
   "execution_count": 12,
   "metadata": {},
   "outputs": [
    {
     "name": "stdout",
     "output_type": "stream",
     "text": [
      "[ARG0: John] [V: broke] [ARG1: the window] [ARG2: with a rock] .\n"
     ]
    }
   ],
   "source": [
    "print(preds[\"verbs\"][0][\"description\"])"
   ]
  },
  {
   "cell_type": "code",
   "execution_count": 13,
   "metadata": {},
   "outputs": [],
   "source": [
    "# 支持一个batch执行"
   ]
  },
  {
   "cell_type": "code",
   "execution_count": 14,
   "metadata": {},
   "outputs": [],
   "source": [
    "sentences = [{\"sentence\": sentence}, {\"sentence\": sentence}]\n",
    "results = predictor.predict_batch_json(sentences)"
   ]
  },
  {
   "cell_type": "markdown",
   "metadata": {},
   "source": [
    "### <font color='orange'>batch输出格式： </font>：\n",
    "\n",
    "<div>\n",
    "<img src='imgs/srl-res.png' width='600' height='600'/>\n",
    "</div>\n",
    "\n",
    "<div>\n",
    "<img src='imgs/srl-res2.png' width='600' height='600'/>\n",
    "</div>"
   ]
  },
  {
   "cell_type": "code",
   "execution_count": 15,
   "metadata": {},
   "outputs": [
    {
     "data": {
      "text/plain": [
       "[{'verbs': [{'verb': 'broke',\n",
       "    'description': '[ARG0: John] [V: broke] [ARG1: the window] [ARG2: with a rock] .',\n",
       "    'tags': ['B-ARG0',\n",
       "     'B-V',\n",
       "     'B-ARG1',\n",
       "     'I-ARG1',\n",
       "     'B-ARG2',\n",
       "     'I-ARG2',\n",
       "     'I-ARG2',\n",
       "     'O']}],\n",
       "  'words': ['John', 'broke', 'the', 'window', 'with', 'a', 'rock', '.']},\n",
       " {'verbs': [{'verb': 'broke',\n",
       "    'description': '[ARG0: John] [V: broke] [ARG1: the window] [ARG2: with a rock] .',\n",
       "    'tags': ['B-ARG0',\n",
       "     'B-V',\n",
       "     'B-ARG1',\n",
       "     'I-ARG1',\n",
       "     'B-ARG2',\n",
       "     'I-ARG2',\n",
       "     'I-ARG2',\n",
       "     'O']}],\n",
       "  'words': ['John', 'broke', 'the', 'window', 'with', 'a', 'rock', '.']}]"
      ]
     },
     "execution_count": 15,
     "metadata": {},
     "output_type": "execute_result"
    }
   ],
   "source": [
    "results"
   ]
  }
 ],
 "metadata": {
  "kernelspec": {
   "display_name": "Python 3",
   "language": "python",
   "name": "python3"
  },
  "language_info": {
   "codemirror_mode": {
    "name": "ipython",
    "version": 3
   },
   "file_extension": ".py",
   "mimetype": "text/x-python",
   "name": "python",
   "nbconvert_exporter": "python",
   "pygments_lexer": "ipython3",
   "version": "3.6.2"
  }
 },
 "nbformat": 4,
 "nbformat_minor": 5
}
