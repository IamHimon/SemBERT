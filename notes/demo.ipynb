{
 "cells": [
  {
   "cell_type": "code",
   "execution_count": 1,
   "id": "9fda0a52",
   "metadata": {},
   "outputs": [],
   "source": [
    "import torch"
   ]
  },
  {
   "cell_type": "code",
   "execution_count": 2,
   "id": "502dbe69",
   "metadata": {},
   "outputs": [],
   "source": [
    "input = torch.randn(20, 5)"
   ]
  },
  {
   "cell_type": "code",
   "execution_count": 9,
   "id": "810d073f",
   "metadata": {},
   "outputs": [],
   "source": [
    "from torch import nn\n",
    "m = nn.LayerNorm(5)"
   ]
  },
  {
   "cell_type": "code",
   "execution_count": 10,
   "id": "e518ce69",
   "metadata": {},
   "outputs": [],
   "source": [
    "output = m(input)"
   ]
  },
  {
   "cell_type": "code",
   "execution_count": 11,
   "id": "eef4e466",
   "metadata": {},
   "outputs": [
    {
     "data": {
      "text/plain": [
       "torch.Size([20, 5])"
      ]
     },
     "execution_count": 11,
     "metadata": {},
     "output_type": "execute_result"
    }
   ],
   "source": [
    "output.shape"
   ]
  },
  {
   "cell_type": "code",
   "execution_count": 16,
   "id": "0484c9c6",
   "metadata": {},
   "outputs": [],
   "source": [
    "a = torch.randn(2,3,5)"
   ]
  },
  {
   "cell_type": "code",
   "execution_count": 17,
   "id": "1362d6b9",
   "metadata": {},
   "outputs": [
    {
     "data": {
      "text/plain": [
       "tensor([[[-0.1235, -0.6993,  1.0114, -1.5486,  0.3756],\n",
       "         [ 0.7532,  0.9836, -1.6193,  0.3640, -0.0653],\n",
       "         [-1.1781, -1.2949,  0.4469,  0.8608,  1.4738]],\n",
       "\n",
       "        [[ 0.9445, -1.1122,  1.3045,  1.3301,  1.9825],\n",
       "         [ 1.1535, -1.5147,  0.1264,  0.3642, -0.9797],\n",
       "         [ 0.7299,  0.2895, -0.0931,  0.7348,  0.4659]]])"
      ]
     },
     "execution_count": 17,
     "metadata": {},
     "output_type": "execute_result"
    }
   ],
   "source": [
    "a"
   ]
  },
  {
   "cell_type": "code",
   "execution_count": 18,
   "id": "12b97032",
   "metadata": {},
   "outputs": [],
   "source": [
    "b = torch.max(a, dim=1)"
   ]
  },
  {
   "cell_type": "code",
   "execution_count": 19,
   "id": "25ef8fd3",
   "metadata": {},
   "outputs": [
    {
     "data": {
      "text/plain": [
       "torch.return_types.max(\n",
       "values=tensor([[0.7532, 0.9836, 1.0114, 0.8608, 1.4738],\n",
       "        [1.1535, 0.2895, 1.3045, 1.3301, 1.9825]]),\n",
       "indices=tensor([[1, 1, 0, 2, 2],\n",
       "        [1, 2, 0, 0, 0]]))"
      ]
     },
     "execution_count": 19,
     "metadata": {},
     "output_type": "execute_result"
    }
   ],
   "source": [
    "b"
   ]
  },
  {
   "cell_type": "code",
   "execution_count": 21,
   "id": "74bc7403",
   "metadata": {},
   "outputs": [
    {
     "data": {
      "text/plain": [
       "torch.Size([2, 5])"
      ]
     },
     "execution_count": 21,
     "metadata": {},
     "output_type": "execute_result"
    }
   ],
   "source": [
    "b.values.shape"
   ]
  },
  {
   "cell_type": "code",
   "execution_count": null,
   "id": "546729f0",
   "metadata": {},
   "outputs": [],
   "source": []
  }
 ],
 "metadata": {
  "kernelspec": {
   "display_name": "Python 3",
   "language": "python",
   "name": "python3"
  },
  "language_info": {
   "codemirror_mode": {
    "name": "ipython",
    "version": 3
   },
   "file_extension": ".py",
   "mimetype": "text/x-python",
   "name": "python",
   "nbconvert_exporter": "python",
   "pygments_lexer": "ipython3",
   "version": "3.7.10"
  }
 },
 "nbformat": 4,
 "nbformat_minor": 5
}
